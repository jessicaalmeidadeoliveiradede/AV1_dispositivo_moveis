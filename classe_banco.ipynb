{
  "nbformat": 4,
  "nbformat_minor": 0,
  "metadata": {
    "colab": {
      "private_outputs": true,
      "provenance": [],
      "authorship_tag": "ABX9TyPwP44LhYCGWpa+gTn3DR2g",
      "include_colab_link": true
    },
    "kernelspec": {
      "name": "python3",
      "display_name": "Python 3"
    },
    "language_info": {
      "name": "python"
    }
  },
  "cells": [
    {
      "cell_type": "markdown",
      "metadata": {
        "id": "view-in-github",
        "colab_type": "text"
      },
      "source": [
        "<a href=\"https://colab.research.google.com/github/jessicaalmeidadeoliveiradede/AV1_dispositivo_moveis/blob/main/classe_banco.ipynb\" target=\"_parent\"><img src=\"https://colab.research.google.com/assets/colab-badge.svg\" alt=\"Open In Colab\"/></a>"
      ]
    },
    {
      "cell_type": "code",
      "source": [
        "class cliente:\n",
        "    def __init__(self, nome, idade, fone, sexo , niver):\n",
        "        self.nome = nome\n",
        "        self.idade = idade\n",
        "        self.fone= fone\n",
        "        self. sexo = sexo\n",
        "        self. niver = niver\n",
        "    def setNome(self, nome):\n",
        "        self.nome = nome\n",
        "\n",
        "    def setIdade(self, idade):\n",
        "        self.idade = idade\n",
        "\n",
        "    def setfone( Self,fone):\n",
        "     Self.fone=fone\n",
        "     def setsexo(Self,sexo):\n",
        "      Self.sexo=fone\n",
        "      def setniver(setf,niver):\n",
        "        setf.niver=niver\n",
        "    def getNome(self):\n",
        "         return self.nome\n",
        "    def getfone(self):\n",
        "         return self.fone\n",
        "    def getsexo(self):\n",
        "         return self.sexo\n",
        "    def getniver(self):\n",
        "         return self.niver\n",
        "\n"
      ],
      "metadata": {
        "id": "UBO-HjhO4cBH"
      },
      "execution_count": null,
      "outputs": []
    },
    {
      "cell_type": "code",
      "source": [
        "class conta:\n",
        "    def __init__(self, id, descriconta,saldo ):\n",
        "        self.id_conta = id\n",
        "        self.descriconta = descriconta\n",
        "        self. saldo = saldo\n",
        "    def setidconta(self, id):\n",
        "        self.id = id\n",
        "    def setdescriconta(self,descriconta):\n",
        "        self.descriconta  = descriconta\n",
        "        def getid(self,id):\n",
        "        return self.id\n",
        "        def getdescriconta(self):\n",
        "         return self.descriconta\n",
        "         def getsaldo(self):\n",
        "         return self.saldo\n",
        "\n"
      ],
      "metadata": {
        "id": "VswGrCV5Njmr"
      },
      "execution_count": null,
      "outputs": []
    },
    {
      "cell_type": "code",
      "source": [
        "class depocito:\n",
        "    def __init__(self, id_depocito,data,valor,quanto):\n",
        "        self.id_depocito = id_depocito\n",
        "        self.data = data\n",
        "        self.valor=valor\n",
        "        self.quanto=quanto\n",
        "    def setiddepocito(self, id_depocito):\n",
        "        self.id_depocito = id_depocito\n",
        "    def setdata(self, data):\n",
        "        self.data = data\n",
        "    def setvalor( Self,valor):\n",
        "       def setquanto( Self,quanto):\n",
        "        Self.quanto.quanto\n",
        "        def getiddepocito(self):\n",
        "            return self.id_depocito\n",
        "            def getdata(self,data):\n",
        "              return self.data\n",
        "              def getvalor(self):\n",
        "              return self.valor\n",
        "              def getquanto(self):\n",
        "              return self.quanto\n",
        "\n"
      ],
      "metadata": {
        "id": "uyL0byKdZmkz"
      },
      "execution_count": null,
      "outputs": []
    }
  ]
}